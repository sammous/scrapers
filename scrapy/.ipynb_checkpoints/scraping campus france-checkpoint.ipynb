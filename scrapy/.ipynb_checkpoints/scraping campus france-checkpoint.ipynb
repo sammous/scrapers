{
 "cells": [
  {
   "cell_type": "code",
   "execution_count": 7,
   "metadata": {},
   "outputs": [],
   "source": [
    "from selenium import webdriver\n",
    "from selenium.webdriver.common.keys import Keys"
   ]
  },
  {
   "cell_type": "code",
   "execution_count": 6,
   "metadata": {},
   "outputs": [
    {
     "data": {
      "text/plain": [
       "'<!DOCTYPE html>\\r\\n<html>\\r\\n    <head>\\r\\n        <title>Campus France</title>\\r\\n        <meta http-equiv=\"Content-Type\" content=\"text/html; charset=UTF-8\" />\\r\\n        <meta http-equiv=\"X-UA-Compatible\" content=\"IE=edge\"/>\\r\\n        <meta name=\"viewport\" content=\"width=device-width, initial-scale=1.0\"/>\\r\\n        <!--<link wicket:id=\"link-css-reset\" rel=\"stylesheet\" type=\"text/css\" media=\"all\" href=\"css/reset.css\" />\\r\\n        <link wicket:id=\"link-css-base\" rel=\"stylesheet\" type=\"text/css\" media=\"all\" href=\"css/base.css\" />\\r\\n        <link wicket:id=\"link-css-egide\" rel=\"stylesheet\" type=\"text/css\" media=\"all\" href=\"css/egide.css\" />\\r\\n        <link wicket:id=\"link-css-egideExtranet\" rel=\"stylesheet\" type=\"text/css\" media=\"all\" href=\"css/egideextranet.css\" />\\r\\n        <link wicket:id=\"link-css-egidePrint\" rel=\"stylesheet\" type=\"text/css\" media=\"print\" href=\"css/egideprint.css\" />-->\\r\\n        <link rel=\"stylesheet\" type=\"text/css\" href=\"/CandidatureAnonyme/css/bootstrap.css\" media=\"screen\"/>\\r\\n        <link rel=\"stylesheet\" type=\"text/css\" href=\"/CandidatureAnonyme/css/bootstrap-theme.css\" media=\"screen\"/>\\r\\n        <link rel=\"stylesheet\" type=\"text/css\" href=\"/CandidatureAnonyme/css/docs.css\" media=\"screen\"/>\\r\\n        <script src=\"/CandidatureAnonyme/js/jquery-1.10.2.js\" type=\"text/javascript\"></script>\\r\\n        <script src=\"/CandidatureAnonyme/js/bootstrap.min.js\" type=\"text/javascript\"></script>\\r\\n\\r\\n        <!-- HTML5 shim and Respond.js for IE8 support of HTML5 elements and media queries -->\\r\\n        <!-- WARNING: Respond.js doesn\\'t work if you view the page via file:// -->\\r\\n        <!--[if lt IE 9]>\\r\\n          <script src=\"https://oss.maxcdn.com/html5shiv/3.7.2/html5shiv.min.js\"></script>\\r\\n          <script src=\"https://oss.maxcdn.com/respond/1.4.2/respond.min.js\"></script>\\r\\n        <![endif]-->\\r\\n\\r\\n        <script language=\"Javascript\">\\r\\n\\r\\n            function version_navigateur() {\\r\\n\\r\\n                if (/MSIE (\\\\d+\\\\.\\\\d+);/.test(navigator.userAgent)) { //test for MSIE x.x;\\r\\n                    var ieversion = new Number(RegExp.$1) // capture x.x portion and store as a number\\r\\n\\r\\n                    if (ieversion < 7) {\\r\\n\\r\\n                        alert(\"Votre navigateur internet n\\'est pas compatible avec le service en ligne des Programmes de recherche. Configuration minimale : navigateurs Internet Explorer 7, Firefox 3 ou Safari.\");\\r\\n                    }\\r\\n                }\\r\\n\\r\\n                if (/Firefox[\\\\/\\\\s](\\\\d+\\\\.\\\\d+)/.test(navigator.userAgent)) { //test for Firefox/x.x or Firefox x.x (ignoring remaining digits);\\r\\n                    var ffversion = new Number(RegExp.$1) // capture x.x portion and store as a number\\r\\n                    if (ffversion < 3) {\\r\\n\\r\\n                        alert(\"Votre navigateur internet n\\'est pas compatible avec le service en ligne des Programmes de recherche. Configuration minimale : navigateurs Internet Explorer 7, Firefox 3 ou Safari.\");\\r\\n                    }\\r\\n                }\\r\\n\\r\\n            }\\r\\n        </script>\\r\\n\\r\\n    </head>\\r\\n\\r\\n    <body  role=\"document\" >\\r\\n        <div id=\"indicator\" style=\"display: none;\">\\r\\n            <div class=\"indicator-content\">\\r\\n                <div id=\"texteopaque\">\\r\\n                    Veuillez patienter svp ...\\r\\n                </div>\\r\\n                \\r\\n                    <img height=\"16\" alt=\"loading\" width=\"16\" onclick=\"window.location.href=\\'../images/loading.gif\\';return false;\" src=\"../images/loading.gif\"/>\\r\\n                \\r\\n            </div>\\r\\n        </div>\\r\\n        \\r\\n    <!-- Begin Wrapper -->\\r\\n\\r\\n    <div class=\"docs-header\">\\r\\n        <div class=\"container\">\\r\\n            <a href=\"#\" class=\"navbar-brand\"><img style=\"width: 148px; height: 48px\" alt=\"Campus France\" src=\"../../../images/logo.gif\"/></a>\\r\\n            <h2 style =\"text-align : center; color : white\"></h2>\\r\\n        </div>\\r\\n    </div>\\r\\n    \\r\\n    <div class=\"navbar navbar-inverse navbar-static-top\" role=\"navigation\">\\r\\n    \\r\\n    <!--\\r\\n\\t <div class=\"general_header\" style=\"background:  #FFFFFF url(../css/img/bg_header.jpg); width: 100%; display: inline-block\">\\r\\n        <div class=\"logo\" style=\"width: 20%; float: left\"><img src=\"images/logo.gif\" alt=\"logo\" style=\"width: 120px; margin: 15px\"/></div>\\r\\n        <div class=\"titre\" style=\"width: 60%; margin: 15px;float: right;\" ><span>Extranet Candidature Recherche</span></div>\\r\\n         </div>\\r\\n       \\r\\n          <div style=\"display: inline-block; width: 100%;\">\\r\\n    <div style=\" float: right; width: 20%\" wicket:id=\"version-application-candidature\">\\r\\n        <i style=\"font-size: 8pt; color: gray;float: right; \">Version <span class=\"userInformation\" wicket:id=\"version\"></span></i>\\r\\n    </div>\\r\\n        <div style=\"float: left;\">\\r\\n            <h3>Espace personnel:</h3>\\r\\n        </div>\\r\\n    </div>\\r\\n    \\r\\n    -->\\r\\n \\r\\n</div>\\r\\n    \\r\\n    <!--<div id=\"header\"></div>-->\\r\\n    <div class=\"container\" role=\"main\">\\r\\n        <div class=\"row\">\\r\\n            \\r\\n\\t\\r\\n\\t\\t<div class=\"col-md-3\"></div>\\r\\n                <div class=\"col-md-9\" role=\"main\">\\r\\n    <div class=\"row\">\\r\\n        <div class=\"col-md-8\">\\r\\n            <div class=\"extranet\">\\r\\n\\r\\n                <h4><span class=\"label label-danger\">Erreur interne</span></h4>\\r\\n                <br/>\\r\\n                <h4>\\r\\n                    Le syst&egrave;me a rencontr&eacute; une erreur. \\r\\n                    <br/><br/><smal>Pour revenir <a class=\"btn btn-primary btn-sm\" href=\";jsessionid=06825b353969e044faf812951d58?wicket:interface=:2:message-countainer:home-page::ILinkListener::\">Cliquez ici</a></smal>\\r\\n                </h4>\\r\\n            </div>\\r\\n        </div>\\r\\n    </div>\\r\\n</div>\\r\\n\\t\\r\\n\\r\\n        </div>\\r\\n    </div>\\r\\n    <br/>\\r\\n    <div class=\"bs-docs-footer\"></div>\\r\\n\\r\\n\\r\\n    </body>\\r\\n</html>'"
      ]
     },
     "execution_count": 6,
     "metadata": {},
     "output_type": "execute_result"
    }
   ],
   "source": [
    "driver = webdriver.Firefox()\n",
    "driver.get(\"http://chercheurs.campusfrance.org/CandidatureAnonyme/recherche-externe\")\n"
   ]
  },
  {
   "cell_type": "code",
   "execution_count": null,
   "metadata": {},
   "outputs": [],
   "source": []
  }
 ],
 "metadata": {
  "kernelspec": {
   "display_name": "Python 2",
   "language": "python",
   "name": "python2"
  },
  "language_info": {
   "codemirror_mode": {
    "name": "ipython",
    "version": 2
   },
   "file_extension": ".py",
   "mimetype": "text/x-python",
   "name": "python",
   "nbconvert_exporter": "python",
   "pygments_lexer": "ipython2",
   "version": "2.7.12"
  }
 },
 "nbformat": 4,
 "nbformat_minor": 2
}
